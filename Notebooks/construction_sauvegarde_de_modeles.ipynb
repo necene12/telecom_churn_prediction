{
 "cells": [
  {
   "cell_type": "code",
   "execution_count": 2,
   "metadata": {},
   "outputs": [],
   "source": [
    "# Librairies\n",
    "import pandas as pd\n",
    "import numpy as np\n",
    "from sklearn.preprocessing import StandardScaler\n",
    "from sklearn.impute import SimpleImputer\n",
    "from sklearn.compose import ColumnTransformer\n",
    "from sklearn.preprocessing import OneHotEncoder\n",
    "from sklearn.linear_model import LogisticRegression\n",
    "from sklearn.ensemble import AdaBoostClassifier\n",
    "from imblearn.over_sampling import SMOTE\n",
    "from imblearn.pipeline import Pipeline\n",
    "import pickle\n"
   ]
  },
  {
   "cell_type": "code",
   "execution_count": 3,
   "metadata": {},
   "outputs": [],
   "source": [
    "# Chargement des données\n",
    "df = pd.read_csv(\"https://assets-datascientest.s3-eu-west-1.amazonaws.com/de/total/churn.csv\")\n",
    "df = df.reset_index()"
   ]
  },
  {
   "cell_type": "code",
   "execution_count": 4,
   "metadata": {},
   "outputs": [],
   "source": [
    "# Identification des valeurs manquantes pour TotalCharges:\n",
    "df = df.replace(' ', np.nan)\n",
    "df['TotalCharges'] = df['TotalCharges'].astype('float64')"
   ]
  },
  {
   "cell_type": "code",
   "execution_count": 5,
   "metadata": {},
   "outputs": [],
   "source": [
    "# On remplace les valeurs nulles par 0 pour la variable TotalCharges, ces données correspondent aux factures totales de nouveaux clients.\n",
    "df.TotalCharges = df.TotalCharges.fillna(0)"
   ]
  },
  {
   "cell_type": "code",
   "execution_count": 6,
   "metadata": {},
   "outputs": [],
   "source": [
    "# Mise à jour de la variable SeniorCitizen\n",
    "df['SeniorCitizen'].replace({0:'No',1:'Yes'}, inplace=True)\n",
    "# Mise à jour de la variable Churn\n",
    "df['Churn'].replace({'No':0,'Yes':1}, inplace=True)\n",
    "# Conversion de la variable TotalCharges en numérique\n",
    "df['TotalCharges'] = pd.to_numeric(df['TotalCharges'])"
   ]
  },
  {
   "cell_type": "code",
   "execution_count": 7,
   "metadata": {},
   "outputs": [],
   "source": [
    "# Définition des variables pour la construction des pipelines\n",
    "# Définition des variables catégorielles\n",
    "colonnes_categorielles = ['gender',\n",
    "                          'SeniorCitizen',\n",
    "                          'Partner',\n",
    "                          'Dependents',\n",
    "                          'PhoneService',\n",
    "                          'MultipleLines',\n",
    "                          'OnlineSecurity',\n",
    "                          'Contract',\n",
    "                          'PaperlessBilling',\n",
    "                          'PaymentMethod',\n",
    "                          'StreamingMovies',\n",
    "                          'StreamingTV',\n",
    "                          'TechSupport',\n",
    "                          'DeviceProtection',\n",
    "                          'InternetService',\n",
    "                          'OnlineBackup']\n",
    "\n",
    "# Variables numériques\n",
    "colonnes_numeriques =['tenure',\n",
    "                      'MonthlyCharges',\n",
    "                      'TotalCharges']\n",
    "\n",
    "# Variable à supprimer\n",
    "colonnes_a_supprimer='customerID'\n",
    "\n",
    "# Variable cible\n",
    "colonne_cible = 'Churn'"
   ]
  },
  {
   "cell_type": "code",
   "execution_count": 8,
   "metadata": {},
   "outputs": [],
   "source": [
    "# Suppression des colonnes qui non nécessaires aux modèles notemment 'customerID'\n",
    "df = df.drop('index',axis='columns')"
   ]
  },
  {
   "cell_type": "code",
   "execution_count": 9,
   "metadata": {},
   "outputs": [
    {
     "name": "stderr",
     "output_type": "stream",
     "text": [
      "C:\\Users\\c.nzie\\AppData\\Local\\Packages\\PythonSoftwareFoundation.Python.3.10_qbz5n2kfra8p0\\LocalCache\\local-packages\\Python310\\site-packages\\sklearn\\linear_model\\_logistic.py:444: ConvergenceWarning: lbfgs failed to converge (status=1):\n",
      "STOP: TOTAL NO. of ITERATIONS REACHED LIMIT.\n",
      "\n",
      "Increase the number of iterations (max_iter) or scale the data as shown in:\n",
      "    https://scikit-learn.org/stable/modules/preprocessing.html\n",
      "Please also refer to the documentation for alternative solver options:\n",
      "    https://scikit-learn.org/stable/modules/linear_model.html#logistic-regression\n",
      "  n_iter_i = _check_optimize_result(\n"
     ]
    }
   ],
   "source": [
    "# Pipeline de construction du modèle et sauvegarde\n",
    "\n",
    "# Varaibles explicatives\n",
    "X = df.drop([colonne_cible, colonnes_a_supprimer], axis='columns')\n",
    "\n",
    "# Variable cible\n",
    "y = df[colonne_cible]\n",
    "\n",
    "# Transformation des données et construction du pipeline du modèle de regressionlogistique\n",
    "numeric_transformer = Pipeline(steps=[\n",
    "       ('imputer', SimpleImputer(strategy='mean')),\n",
    "       ('scaler', StandardScaler())\n",
    "])\n",
    "\n",
    "categorical_transformer = Pipeline(steps=[\n",
    "       ('imputer', SimpleImputer(strategy='constant')),\n",
    "       ('onehot',OneHotEncoder())\n",
    "])\n",
    "\n",
    "preprocessor = ColumnTransformer(\n",
    "   transformers=[\n",
    "    ('numeric', numeric_transformer, colonnes_numeriques),\n",
    "    ('categorical', categorical_transformer, colonnes_categorielles)\n",
    "]) \n",
    "\n",
    "pipeline_reglog = Pipeline(steps = [\n",
    "               ('preprocessor', preprocessor),\n",
    "               ('Oversampling', SMOTE()),\n",
    "               ('regressor',LogisticRegression())\n",
    "           ])\n",
    "# Construction du modèle de regression logistique\n",
    "model_reglog = pipeline_reglog.fit(X, y)\n",
    "# Sauvegarde du modèle de regression logistique\n",
    "pickle.dump(model_reglog, open('model_regressionlogistique.pkl','wb'))\n",
    "\n",
    "# Pipeline adboost\n",
    "pipeline_adboost = Pipeline(steps = [\n",
    "               ('preprocessor', preprocessor),\n",
    "               ('Oversampling', SMOTE()),\n",
    "               ('regressor',AdaBoostClassifier())\n",
    "           ])\n",
    "# Construction du modèle AdboostClassifier\n",
    "model_adboost = pipeline_adboost.fit(X,y)\n",
    "# Sauvegarde du modèle\n",
    "pickle.dump(model_adboost, open('model_AdboostClassifier.pkl', 'wb'))\n"
   ]
  }
 ],
 "metadata": {
  "kernelspec": {
   "display_name": "Python 3.10.7 64-bit (microsoft store)",
   "language": "python",
   "name": "python3"
  },
  "language_info": {
   "codemirror_mode": {
    "name": "ipython",
    "version": 3
   },
   "file_extension": ".py",
   "mimetype": "text/x-python",
   "name": "python",
   "nbconvert_exporter": "python",
   "pygments_lexer": "ipython3",
   "version": "3.10.8"
  },
  "orig_nbformat": 4,
  "vscode": {
   "interpreter": {
    "hash": "fdc73bc620ba20c6359266fc140325d5594e8762597533dd523133a2060c60a3"
   }
  }
 },
 "nbformat": 4,
 "nbformat_minor": 2
}
